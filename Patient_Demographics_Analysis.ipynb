{
 "cells": [
  {
   "cell_type": "markdown",
   "id": "7c910efe-5166-475e-b305-cba0de141f8b",
   "metadata": {},
   "source": [
    "<font size = 10 >**Patient Demographics Analysis** </font>"
   ]
  },
  {
   "cell_type": "code",
   "execution_count": 2,
   "id": "1fd0593a-ab0b-4709-8263-ac850c20a8b8",
   "metadata": {},
   "outputs": [],
   "source": [
    "import numpy as np\n",
    "import pandas as pd\n",
    "import matplotlib.pyplot as plt # visualizing data\n",
    "%matplotlib inline\n",
    "import seaborn as sns"
   ]
  },
  {
   "cell_type": "code",
   "execution_count": 5,
   "id": "c121ca12-be79-4496-b904-ef089bb379cd",
   "metadata": {},
   "outputs": [],
   "source": [
    "df = pd.read_csv(\"C:\\\\Users\\\\Vaishnavi\\\\Downloads\\\\healthcare_dataset.csv\", encoding='unicode-escape')"
   ]
  },
  {
   "cell_type": "code",
   "execution_count": 6,
   "id": "c7f6d5d3-741c-4d8a-8a82-2ebcdf08c534",
   "metadata": {},
   "outputs": [
    {
     "data": {
      "text/plain": [
       "(500, 13)"
      ]
     },
     "execution_count": 6,
     "metadata": {},
     "output_type": "execute_result"
    }
   ],
   "source": [
    "df.shape"
   ]
  },
  {
   "cell_type": "code",
   "execution_count": 7,
   "id": "dda9948d-0967-42f4-ad4c-01a2e55e679d",
   "metadata": {},
   "outputs": [
    {
     "data": {
      "text/html": [
       "<div>\n",
       "<style scoped>\n",
       "    .dataframe tbody tr th:only-of-type {\n",
       "        vertical-align: middle;\n",
       "    }\n",
       "\n",
       "    .dataframe tbody tr th {\n",
       "        vertical-align: top;\n",
       "    }\n",
       "\n",
       "    .dataframe thead th {\n",
       "        text-align: right;\n",
       "    }\n",
       "</style>\n",
       "<table border=\"1\" class=\"dataframe\">\n",
       "  <thead>\n",
       "    <tr style=\"text-align: right;\">\n",
       "      <th></th>\n",
       "      <th>Patient_ID</th>\n",
       "      <th>Age</th>\n",
       "      <th>Gender</th>\n",
       "      <th>Blood_Pressure</th>\n",
       "      <th>Heart_Rate</th>\n",
       "      <th>Cholesterol_Level</th>\n",
       "      <th>Diabetes</th>\n",
       "      <th>Smoker</th>\n",
       "      <th>Disease</th>\n",
       "      <th>Hospital_Visit_Date</th>\n",
       "      <th>Random_Code</th>\n",
       "      <th>Extra_Notes</th>\n",
       "      <th>Unused_Column</th>\n",
       "    </tr>\n",
       "  </thead>\n",
       "  <tbody>\n",
       "    <tr>\n",
       "      <th>0</th>\n",
       "      <td>1001</td>\n",
       "      <td>69.0</td>\n",
       "      <td>Female</td>\n",
       "      <td>100/95</td>\n",
       "      <td>91</td>\n",
       "      <td>120.0</td>\n",
       "      <td>No</td>\n",
       "      <td>Yes</td>\n",
       "      <td>NaN</td>\n",
       "      <td>2024-04-11 15:15:47.228473</td>\n",
       "      <td>LB07BxSv</td>\n",
       "      <td>Checkup pending</td>\n",
       "      <td>NaN</td>\n",
       "    </tr>\n",
       "    <tr>\n",
       "      <th>1</th>\n",
       "      <td>1002</td>\n",
       "      <td>32.0</td>\n",
       "      <td>Female</td>\n",
       "      <td>166/102</td>\n",
       "      <td>107</td>\n",
       "      <td>157.0</td>\n",
       "      <td>No</td>\n",
       "      <td>No</td>\n",
       "      <td>Hypertension</td>\n",
       "      <td>2024-05-09 15:15:47.228519</td>\n",
       "      <td>p8P2wAY4</td>\n",
       "      <td>Lorem ipsum</td>\n",
       "      <td>NaN</td>\n",
       "    </tr>\n",
       "    <tr>\n",
       "      <th>2</th>\n",
       "      <td>1003</td>\n",
       "      <td>NaN</td>\n",
       "      <td>Male</td>\n",
       "      <td>92/92</td>\n",
       "      <td>61</td>\n",
       "      <td>258.0</td>\n",
       "      <td>No</td>\n",
       "      <td>No</td>\n",
       "      <td>Heart Disease</td>\n",
       "      <td>2024-03-08 15:15:47.228527</td>\n",
       "      <td>qoHPl9Du</td>\n",
       "      <td>NaN</td>\n",
       "      <td>NaN</td>\n",
       "    </tr>\n",
       "    <tr>\n",
       "      <th>3</th>\n",
       "      <td>1004</td>\n",
       "      <td>78.0</td>\n",
       "      <td>Male</td>\n",
       "      <td>95/109</td>\n",
       "      <td>52</td>\n",
       "      <td>NaN</td>\n",
       "      <td>Yes</td>\n",
       "      <td>No</td>\n",
       "      <td>Hypertension</td>\n",
       "      <td>2024-06-10 15:15:47.228533</td>\n",
       "      <td>Q7MBWUV7</td>\n",
       "      <td>Checkup pending</td>\n",
       "      <td>NaN</td>\n",
       "    </tr>\n",
       "    <tr>\n",
       "      <th>4</th>\n",
       "      <td>1005</td>\n",
       "      <td>38.0</td>\n",
       "      <td>Male</td>\n",
       "      <td>99/64</td>\n",
       "      <td>67</td>\n",
       "      <td>238.0</td>\n",
       "      <td>No</td>\n",
       "      <td>No</td>\n",
       "      <td>Hypertension</td>\n",
       "      <td>2024-04-01 15:15:47.228538</td>\n",
       "      <td>Ykup9s2N</td>\n",
       "      <td>No issues</td>\n",
       "      <td>NaN</td>\n",
       "    </tr>\n",
       "  </tbody>\n",
       "</table>\n",
       "</div>"
      ],
      "text/plain": [
       "   Patient_ID   Age  Gender Blood_Pressure  Heart_Rate  Cholesterol_Level  \\\n",
       "0        1001  69.0  Female         100/95          91              120.0   \n",
       "1        1002  32.0  Female        166/102         107              157.0   \n",
       "2        1003   NaN    Male          92/92          61              258.0   \n",
       "3        1004  78.0    Male         95/109          52                NaN   \n",
       "4        1005  38.0    Male          99/64          67              238.0   \n",
       "\n",
       "  Diabetes Smoker        Disease         Hospital_Visit_Date Random_Code  \\\n",
       "0       No    Yes            NaN  2024-04-11 15:15:47.228473    LB07BxSv   \n",
       "1       No     No   Hypertension  2024-05-09 15:15:47.228519    p8P2wAY4   \n",
       "2       No     No  Heart Disease  2024-03-08 15:15:47.228527    qoHPl9Du   \n",
       "3      Yes     No   Hypertension  2024-06-10 15:15:47.228533    Q7MBWUV7   \n",
       "4       No     No   Hypertension  2024-04-01 15:15:47.228538    Ykup9s2N   \n",
       "\n",
       "       Extra_Notes  Unused_Column  \n",
       "0  Checkup pending            NaN  \n",
       "1      Lorem ipsum            NaN  \n",
       "2              NaN            NaN  \n",
       "3  Checkup pending            NaN  \n",
       "4        No issues            NaN  "
      ]
     },
     "execution_count": 7,
     "metadata": {},
     "output_type": "execute_result"
    }
   ],
   "source": [
    "df.head()"
   ]
  },
  {
   "cell_type": "code",
   "execution_count": 8,
   "id": "4215a848-e445-42f7-9fe8-f7c69993afc8",
   "metadata": {},
   "outputs": [
    {
     "data": {
      "text/html": [
       "<div>\n",
       "<style scoped>\n",
       "    .dataframe tbody tr th:only-of-type {\n",
       "        vertical-align: middle;\n",
       "    }\n",
       "\n",
       "    .dataframe tbody tr th {\n",
       "        vertical-align: top;\n",
       "    }\n",
       "\n",
       "    .dataframe thead th {\n",
       "        text-align: right;\n",
       "    }\n",
       "</style>\n",
       "<table border=\"1\" class=\"dataframe\">\n",
       "  <thead>\n",
       "    <tr style=\"text-align: right;\">\n",
       "      <th></th>\n",
       "      <th>Patient_ID</th>\n",
       "      <th>Age</th>\n",
       "      <th>Gender</th>\n",
       "      <th>Blood_Pressure</th>\n",
       "      <th>Heart_Rate</th>\n",
       "      <th>Cholesterol_Level</th>\n",
       "      <th>Diabetes</th>\n",
       "      <th>Smoker</th>\n",
       "      <th>Disease</th>\n",
       "      <th>Hospital_Visit_Date</th>\n",
       "      <th>Random_Code</th>\n",
       "      <th>Extra_Notes</th>\n",
       "      <th>Unused_Column</th>\n",
       "    </tr>\n",
       "  </thead>\n",
       "  <tbody>\n",
       "    <tr>\n",
       "      <th>495</th>\n",
       "      <td>1496</td>\n",
       "      <td>34.0</td>\n",
       "      <td>Female</td>\n",
       "      <td>140/91</td>\n",
       "      <td>73</td>\n",
       "      <td>223.0</td>\n",
       "      <td>No</td>\n",
       "      <td>No</td>\n",
       "      <td>NaN</td>\n",
       "      <td>2024-05-12 15:15:47.231845</td>\n",
       "      <td>8aMTGEZF</td>\n",
       "      <td>No issues</td>\n",
       "      <td>NaN</td>\n",
       "    </tr>\n",
       "    <tr>\n",
       "      <th>496</th>\n",
       "      <td>1497</td>\n",
       "      <td>88.0</td>\n",
       "      <td>Female</td>\n",
       "      <td>125/93</td>\n",
       "      <td>73</td>\n",
       "      <td>275.0</td>\n",
       "      <td>No</td>\n",
       "      <td>Yes</td>\n",
       "      <td>Hypertension</td>\n",
       "      <td>2024-10-25 15:15:47.231850</td>\n",
       "      <td>AB5vCqZ3</td>\n",
       "      <td>Checkup pending</td>\n",
       "      <td>NaN</td>\n",
       "    </tr>\n",
       "    <tr>\n",
       "      <th>497</th>\n",
       "      <td>1498</td>\n",
       "      <td>62.0</td>\n",
       "      <td>Female</td>\n",
       "      <td>155/74</td>\n",
       "      <td>66</td>\n",
       "      <td>206.0</td>\n",
       "      <td>Yes</td>\n",
       "      <td>No</td>\n",
       "      <td>NaN</td>\n",
       "      <td>2024-03-08 15:15:47.231856</td>\n",
       "      <td>JrfZzUmQ</td>\n",
       "      <td>Follow-up needed</td>\n",
       "      <td>NaN</td>\n",
       "    </tr>\n",
       "    <tr>\n",
       "      <th>498</th>\n",
       "      <td>1499</td>\n",
       "      <td>21.0</td>\n",
       "      <td>Male</td>\n",
       "      <td>123/95</td>\n",
       "      <td>54</td>\n",
       "      <td>200.0</td>\n",
       "      <td>No</td>\n",
       "      <td>No</td>\n",
       "      <td>NaN</td>\n",
       "      <td>2024-08-29 15:15:47.231861</td>\n",
       "      <td>GfZVGI9Z</td>\n",
       "      <td>No issues</td>\n",
       "      <td>NaN</td>\n",
       "    </tr>\n",
       "    <tr>\n",
       "      <th>499</th>\n",
       "      <td>1500</td>\n",
       "      <td>53.0</td>\n",
       "      <td>Female</td>\n",
       "      <td>95/98</td>\n",
       "      <td>69</td>\n",
       "      <td>103.0</td>\n",
       "      <td>No</td>\n",
       "      <td>Yes</td>\n",
       "      <td>Heart Disease</td>\n",
       "      <td>2024-12-06 15:15:47.231867</td>\n",
       "      <td>nNLVDBAl</td>\n",
       "      <td>NaN</td>\n",
       "      <td>NaN</td>\n",
       "    </tr>\n",
       "  </tbody>\n",
       "</table>\n",
       "</div>"
      ],
      "text/plain": [
       "     Patient_ID   Age  Gender Blood_Pressure  Heart_Rate  Cholesterol_Level  \\\n",
       "495        1496  34.0  Female         140/91          73              223.0   \n",
       "496        1497  88.0  Female         125/93          73              275.0   \n",
       "497        1498  62.0  Female         155/74          66              206.0   \n",
       "498        1499  21.0    Male         123/95          54              200.0   \n",
       "499        1500  53.0  Female          95/98          69              103.0   \n",
       "\n",
       "    Diabetes Smoker        Disease         Hospital_Visit_Date Random_Code  \\\n",
       "495       No     No            NaN  2024-05-12 15:15:47.231845    8aMTGEZF   \n",
       "496       No    Yes   Hypertension  2024-10-25 15:15:47.231850    AB5vCqZ3   \n",
       "497      Yes     No            NaN  2024-03-08 15:15:47.231856    JrfZzUmQ   \n",
       "498       No     No            NaN  2024-08-29 15:15:47.231861    GfZVGI9Z   \n",
       "499       No    Yes  Heart Disease  2024-12-06 15:15:47.231867    nNLVDBAl   \n",
       "\n",
       "          Extra_Notes  Unused_Column  \n",
       "495         No issues            NaN  \n",
       "496   Checkup pending            NaN  \n",
       "497  Follow-up needed            NaN  \n",
       "498         No issues            NaN  \n",
       "499               NaN            NaN  "
      ]
     },
     "execution_count": 8,
     "metadata": {},
     "output_type": "execute_result"
    }
   ],
   "source": [
    "df.tail()"
   ]
  },
  {
   "cell_type": "code",
   "execution_count": 9,
   "id": "a91a9efd-4ba9-4649-bd7b-fb371f1db2ff",
   "metadata": {},
   "outputs": [
    {
     "name": "stdout",
     "output_type": "stream",
     "text": [
      "<class 'pandas.core.frame.DataFrame'>\n",
      "RangeIndex: 500 entries, 0 to 499\n",
      "Data columns (total 13 columns):\n",
      " #   Column               Non-Null Count  Dtype  \n",
      "---  ------               --------------  -----  \n",
      " 0   Patient_ID           500 non-null    int64  \n",
      " 1   Age                  480 non-null    float64\n",
      " 2   Gender               500 non-null    object \n",
      " 3   Blood_Pressure       485 non-null    object \n",
      " 4   Heart_Rate           500 non-null    int64  \n",
      " 5   Cholesterol_Level    490 non-null    float64\n",
      " 6   Diabetes             500 non-null    object \n",
      " 7   Smoker               500 non-null    object \n",
      " 8   Disease              330 non-null    object \n",
      " 9   Hospital_Visit_Date  500 non-null    object \n",
      " 10  Random_Code          500 non-null    object \n",
      " 11  Extra_Notes          410 non-null    object \n",
      " 12  Unused_Column        0 non-null      float64\n",
      "dtypes: float64(3), int64(2), object(8)\n",
      "memory usage: 50.9+ KB\n"
     ]
    }
   ],
   "source": [
    "df.info()"
   ]
  },
  {
   "cell_type": "code",
   "execution_count": 15,
   "id": "6b3d5042-8ad9-4813-b111-ec595332c7bd",
   "metadata": {},
   "outputs": [
    {
     "data": {
      "text/plain": [
       "Index(['Patient_ID', 'Age', 'Gender', 'Blood_Pressure', 'Heart_Rate',\n",
       "       'Cholesterol_Level', 'Diabetes', 'Smoker', 'Disease',\n",
       "       'Hospital_Visit_Date', 'Random_Code', 'Extra_Notes', 'Unused_Column'],\n",
       "      dtype='object')"
      ]
     },
     "execution_count": 15,
     "metadata": {},
     "output_type": "execute_result"
    }
   ],
   "source": [
    "df.columns"
   ]
  },
  {
   "cell_type": "code",
   "execution_count": 21,
   "id": "1058bae8-dd58-4983-88a7-a2c61af459c9",
   "metadata": {},
   "outputs": [
    {
     "data": {
      "text/html": [
       "<div>\n",
       "<style scoped>\n",
       "    .dataframe tbody tr th:only-of-type {\n",
       "        vertical-align: middle;\n",
       "    }\n",
       "\n",
       "    .dataframe tbody tr th {\n",
       "        vertical-align: top;\n",
       "    }\n",
       "\n",
       "    .dataframe thead th {\n",
       "        text-align: right;\n",
       "    }\n",
       "</style>\n",
       "<table border=\"1\" class=\"dataframe\">\n",
       "  <thead>\n",
       "    <tr style=\"text-align: right;\">\n",
       "      <th></th>\n",
       "      <th>Patient_ID</th>\n",
       "      <th>Age</th>\n",
       "      <th>Gender</th>\n",
       "      <th>Blood_Pressure</th>\n",
       "      <th>Heart_Rate</th>\n",
       "      <th>Cholesterol_Level</th>\n",
       "      <th>Diabetes</th>\n",
       "      <th>Smoker</th>\n",
       "      <th>Disease</th>\n",
       "      <th>Hospital_Visit_Date</th>\n",
       "      <th>Random_Code</th>\n",
       "      <th>Extra_Notes</th>\n",
       "      <th>Unused_Column</th>\n",
       "    </tr>\n",
       "  </thead>\n",
       "  <tbody>\n",
       "    <tr>\n",
       "      <th>0</th>\n",
       "      <td>False</td>\n",
       "      <td>False</td>\n",
       "      <td>False</td>\n",
       "      <td>False</td>\n",
       "      <td>False</td>\n",
       "      <td>False</td>\n",
       "      <td>False</td>\n",
       "      <td>False</td>\n",
       "      <td>True</td>\n",
       "      <td>False</td>\n",
       "      <td>False</td>\n",
       "      <td>False</td>\n",
       "      <td>True</td>\n",
       "    </tr>\n",
       "    <tr>\n",
       "      <th>1</th>\n",
       "      <td>False</td>\n",
       "      <td>False</td>\n",
       "      <td>False</td>\n",
       "      <td>False</td>\n",
       "      <td>False</td>\n",
       "      <td>False</td>\n",
       "      <td>False</td>\n",
       "      <td>False</td>\n",
       "      <td>False</td>\n",
       "      <td>False</td>\n",
       "      <td>False</td>\n",
       "      <td>False</td>\n",
       "      <td>True</td>\n",
       "    </tr>\n",
       "    <tr>\n",
       "      <th>2</th>\n",
       "      <td>False</td>\n",
       "      <td>True</td>\n",
       "      <td>False</td>\n",
       "      <td>False</td>\n",
       "      <td>False</td>\n",
       "      <td>False</td>\n",
       "      <td>False</td>\n",
       "      <td>False</td>\n",
       "      <td>False</td>\n",
       "      <td>False</td>\n",
       "      <td>False</td>\n",
       "      <td>True</td>\n",
       "      <td>True</td>\n",
       "    </tr>\n",
       "    <tr>\n",
       "      <th>3</th>\n",
       "      <td>False</td>\n",
       "      <td>False</td>\n",
       "      <td>False</td>\n",
       "      <td>False</td>\n",
       "      <td>False</td>\n",
       "      <td>True</td>\n",
       "      <td>False</td>\n",
       "      <td>False</td>\n",
       "      <td>False</td>\n",
       "      <td>False</td>\n",
       "      <td>False</td>\n",
       "      <td>False</td>\n",
       "      <td>True</td>\n",
       "    </tr>\n",
       "    <tr>\n",
       "      <th>4</th>\n",
       "      <td>False</td>\n",
       "      <td>False</td>\n",
       "      <td>False</td>\n",
       "      <td>False</td>\n",
       "      <td>False</td>\n",
       "      <td>False</td>\n",
       "      <td>False</td>\n",
       "      <td>False</td>\n",
       "      <td>False</td>\n",
       "      <td>False</td>\n",
       "      <td>False</td>\n",
       "      <td>False</td>\n",
       "      <td>True</td>\n",
       "    </tr>\n",
       "    <tr>\n",
       "      <th>...</th>\n",
       "      <td>...</td>\n",
       "      <td>...</td>\n",
       "      <td>...</td>\n",
       "      <td>...</td>\n",
       "      <td>...</td>\n",
       "      <td>...</td>\n",
       "      <td>...</td>\n",
       "      <td>...</td>\n",
       "      <td>...</td>\n",
       "      <td>...</td>\n",
       "      <td>...</td>\n",
       "      <td>...</td>\n",
       "      <td>...</td>\n",
       "    </tr>\n",
       "    <tr>\n",
       "      <th>495</th>\n",
       "      <td>False</td>\n",
       "      <td>False</td>\n",
       "      <td>False</td>\n",
       "      <td>False</td>\n",
       "      <td>False</td>\n",
       "      <td>False</td>\n",
       "      <td>False</td>\n",
       "      <td>False</td>\n",
       "      <td>True</td>\n",
       "      <td>False</td>\n",
       "      <td>False</td>\n",
       "      <td>False</td>\n",
       "      <td>True</td>\n",
       "    </tr>\n",
       "    <tr>\n",
       "      <th>496</th>\n",
       "      <td>False</td>\n",
       "      <td>False</td>\n",
       "      <td>False</td>\n",
       "      <td>False</td>\n",
       "      <td>False</td>\n",
       "      <td>False</td>\n",
       "      <td>False</td>\n",
       "      <td>False</td>\n",
       "      <td>False</td>\n",
       "      <td>False</td>\n",
       "      <td>False</td>\n",
       "      <td>False</td>\n",
       "      <td>True</td>\n",
       "    </tr>\n",
       "    <tr>\n",
       "      <th>497</th>\n",
       "      <td>False</td>\n",
       "      <td>False</td>\n",
       "      <td>False</td>\n",
       "      <td>False</td>\n",
       "      <td>False</td>\n",
       "      <td>False</td>\n",
       "      <td>False</td>\n",
       "      <td>False</td>\n",
       "      <td>True</td>\n",
       "      <td>False</td>\n",
       "      <td>False</td>\n",
       "      <td>False</td>\n",
       "      <td>True</td>\n",
       "    </tr>\n",
       "    <tr>\n",
       "      <th>498</th>\n",
       "      <td>False</td>\n",
       "      <td>False</td>\n",
       "      <td>False</td>\n",
       "      <td>False</td>\n",
       "      <td>False</td>\n",
       "      <td>False</td>\n",
       "      <td>False</td>\n",
       "      <td>False</td>\n",
       "      <td>True</td>\n",
       "      <td>False</td>\n",
       "      <td>False</td>\n",
       "      <td>False</td>\n",
       "      <td>True</td>\n",
       "    </tr>\n",
       "    <tr>\n",
       "      <th>499</th>\n",
       "      <td>False</td>\n",
       "      <td>False</td>\n",
       "      <td>False</td>\n",
       "      <td>False</td>\n",
       "      <td>False</td>\n",
       "      <td>False</td>\n",
       "      <td>False</td>\n",
       "      <td>False</td>\n",
       "      <td>False</td>\n",
       "      <td>False</td>\n",
       "      <td>False</td>\n",
       "      <td>True</td>\n",
       "      <td>True</td>\n",
       "    </tr>\n",
       "  </tbody>\n",
       "</table>\n",
       "<p>500 rows × 13 columns</p>\n",
       "</div>"
      ],
      "text/plain": [
       "     Patient_ID    Age  Gender  Blood_Pressure  Heart_Rate  Cholesterol_Level  \\\n",
       "0         False  False   False           False       False              False   \n",
       "1         False  False   False           False       False              False   \n",
       "2         False   True   False           False       False              False   \n",
       "3         False  False   False           False       False               True   \n",
       "4         False  False   False           False       False              False   \n",
       "..          ...    ...     ...             ...         ...                ...   \n",
       "495       False  False   False           False       False              False   \n",
       "496       False  False   False           False       False              False   \n",
       "497       False  False   False           False       False              False   \n",
       "498       False  False   False           False       False              False   \n",
       "499       False  False   False           False       False              False   \n",
       "\n",
       "     Diabetes  Smoker  Disease  Hospital_Visit_Date  Random_Code  Extra_Notes  \\\n",
       "0       False   False     True                False        False        False   \n",
       "1       False   False    False                False        False        False   \n",
       "2       False   False    False                False        False         True   \n",
       "3       False   False    False                False        False        False   \n",
       "4       False   False    False                False        False        False   \n",
       "..        ...     ...      ...                  ...          ...          ...   \n",
       "495     False   False     True                False        False        False   \n",
       "496     False   False    False                False        False        False   \n",
       "497     False   False     True                False        False        False   \n",
       "498     False   False     True                False        False        False   \n",
       "499     False   False    False                False        False         True   \n",
       "\n",
       "     Unused_Column  \n",
       "0             True  \n",
       "1             True  \n",
       "2             True  \n",
       "3             True  \n",
       "4             True  \n",
       "..             ...  \n",
       "495           True  \n",
       "496           True  \n",
       "497           True  \n",
       "498           True  \n",
       "499           True  \n",
       "\n",
       "[500 rows x 13 columns]"
      ]
     },
     "execution_count": 21,
     "metadata": {},
     "output_type": "execute_result"
    }
   ],
   "source": [
    "df.isnull()"
   ]
  },
  {
   "cell_type": "code",
   "execution_count": 22,
   "id": "f4fd3bf8-276d-4c9e-9a6f-1e3cf780ff92",
   "metadata": {},
   "outputs": [
    {
     "data": {
      "text/plain": [
       "Patient_ID               0\n",
       "Age                     20\n",
       "Gender                   0\n",
       "Blood_Pressure          15\n",
       "Heart_Rate               0\n",
       "Cholesterol_Level       10\n",
       "Diabetes                 0\n",
       "Smoker                   0\n",
       "Disease                170\n",
       "Hospital_Visit_Date      0\n",
       "Random_Code              0\n",
       "Extra_Notes             90\n",
       "Unused_Column          500\n",
       "dtype: int64"
      ]
     },
     "execution_count": 22,
     "metadata": {},
     "output_type": "execute_result"
    }
   ],
   "source": [
    "df.isnull().sum()"
   ]
  },
  {
   "cell_type": "code",
   "execution_count": 24,
   "id": "301e6e0f-0adc-4b56-8b29-3ba56c06d60d",
   "metadata": {},
   "outputs": [],
   "source": [
    "df.drop(['Unused_Column','Random_Code'],axis = 1 , inplace = True)"
   ]
  },
  {
   "cell_type": "code",
   "execution_count": 25,
   "id": "7cc38acb-1a80-42f2-8f47-67e9fcb0c7a7",
   "metadata": {},
   "outputs": [
    {
     "data": {
      "text/plain": [
       "(500, 11)"
      ]
     },
     "execution_count": 25,
     "metadata": {},
     "output_type": "execute_result"
    }
   ],
   "source": [
    "df.shape"
   ]
  },
  {
   "cell_type": "code",
   "execution_count": 26,
   "id": "04cd8a88-c03c-48f0-886a-71f585412dbe",
   "metadata": {},
   "outputs": [],
   "source": [
    "df.dropna(inplace = True)"
   ]
  },
  {
   "cell_type": "code",
   "execution_count": 27,
   "id": "0a46817c-a881-4d8d-9a96-86ac41ae6f3b",
   "metadata": {},
   "outputs": [
    {
     "data": {
      "text/html": [
       "<div>\n",
       "<style scoped>\n",
       "    .dataframe tbody tr th:only-of-type {\n",
       "        vertical-align: middle;\n",
       "    }\n",
       "\n",
       "    .dataframe tbody tr th {\n",
       "        vertical-align: top;\n",
       "    }\n",
       "\n",
       "    .dataframe thead th {\n",
       "        text-align: right;\n",
       "    }\n",
       "</style>\n",
       "<table border=\"1\" class=\"dataframe\">\n",
       "  <thead>\n",
       "    <tr style=\"text-align: right;\">\n",
       "      <th></th>\n",
       "      <th>Patient_ID</th>\n",
       "      <th>Age</th>\n",
       "      <th>Gender</th>\n",
       "      <th>Blood_Pressure</th>\n",
       "      <th>Heart_Rate</th>\n",
       "      <th>Cholesterol_Level</th>\n",
       "      <th>Diabetes</th>\n",
       "      <th>Smoker</th>\n",
       "      <th>Disease</th>\n",
       "      <th>Hospital_Visit_Date</th>\n",
       "      <th>Extra_Notes</th>\n",
       "    </tr>\n",
       "  </thead>\n",
       "  <tbody>\n",
       "    <tr>\n",
       "      <th>1</th>\n",
       "      <td>1002</td>\n",
       "      <td>32.0</td>\n",
       "      <td>Female</td>\n",
       "      <td>166/102</td>\n",
       "      <td>107</td>\n",
       "      <td>157.0</td>\n",
       "      <td>No</td>\n",
       "      <td>No</td>\n",
       "      <td>Hypertension</td>\n",
       "      <td>2024-05-09 15:15:47.228519</td>\n",
       "      <td>Lorem ipsum</td>\n",
       "    </tr>\n",
       "    <tr>\n",
       "      <th>4</th>\n",
       "      <td>1005</td>\n",
       "      <td>38.0</td>\n",
       "      <td>Male</td>\n",
       "      <td>99/64</td>\n",
       "      <td>67</td>\n",
       "      <td>238.0</td>\n",
       "      <td>No</td>\n",
       "      <td>No</td>\n",
       "      <td>Hypertension</td>\n",
       "      <td>2024-04-01 15:15:47.228538</td>\n",
       "      <td>No issues</td>\n",
       "    </tr>\n",
       "    <tr>\n",
       "      <th>6</th>\n",
       "      <td>1007</td>\n",
       "      <td>20.0</td>\n",
       "      <td>Female</td>\n",
       "      <td>133/61</td>\n",
       "      <td>70</td>\n",
       "      <td>242.0</td>\n",
       "      <td>No</td>\n",
       "      <td>No</td>\n",
       "      <td>Heart Disease</td>\n",
       "      <td>2024-04-18 15:15:47.228550</td>\n",
       "      <td>Follow-up needed</td>\n",
       "    </tr>\n",
       "    <tr>\n",
       "      <th>7</th>\n",
       "      <td>1008</td>\n",
       "      <td>39.0</td>\n",
       "      <td>Male</td>\n",
       "      <td>102/99</td>\n",
       "      <td>64</td>\n",
       "      <td>234.0</td>\n",
       "      <td>No</td>\n",
       "      <td>No</td>\n",
       "      <td>Heart Disease</td>\n",
       "      <td>2024-03-12 15:15:47.228558</td>\n",
       "      <td>Follow-up needed</td>\n",
       "    </tr>\n",
       "    <tr>\n",
       "      <th>9</th>\n",
       "      <td>1010</td>\n",
       "      <td>19.0</td>\n",
       "      <td>Female</td>\n",
       "      <td>154/96</td>\n",
       "      <td>57</td>\n",
       "      <td>150.0</td>\n",
       "      <td>No</td>\n",
       "      <td>No</td>\n",
       "      <td>Diabetes</td>\n",
       "      <td>2024-05-09 15:15:47.228579</td>\n",
       "      <td>No issues</td>\n",
       "    </tr>\n",
       "  </tbody>\n",
       "</table>\n",
       "</div>"
      ],
      "text/plain": [
       "   Patient_ID   Age  Gender Blood_Pressure  Heart_Rate  Cholesterol_Level  \\\n",
       "1        1002  32.0  Female        166/102         107              157.0   \n",
       "4        1005  38.0    Male          99/64          67              238.0   \n",
       "6        1007  20.0  Female         133/61          70              242.0   \n",
       "7        1008  39.0    Male         102/99          64              234.0   \n",
       "9        1010  19.0  Female         154/96          57              150.0   \n",
       "\n",
       "  Diabetes Smoker        Disease         Hospital_Visit_Date       Extra_Notes  \n",
       "1       No     No   Hypertension  2024-05-09 15:15:47.228519       Lorem ipsum  \n",
       "4       No     No   Hypertension  2024-04-01 15:15:47.228538         No issues  \n",
       "6       No     No  Heart Disease  2024-04-18 15:15:47.228550  Follow-up needed  \n",
       "7       No     No  Heart Disease  2024-03-12 15:15:47.228558  Follow-up needed  \n",
       "9       No     No       Diabetes  2024-05-09 15:15:47.228579         No issues  "
      ]
     },
     "execution_count": 27,
     "metadata": {},
     "output_type": "execute_result"
    }
   ],
   "source": [
    "df.head()"
   ]
  },
  {
   "cell_type": "code",
   "execution_count": 28,
   "id": "5be7cf8d-caa0-4e60-99db-4c1fa7a1ced4",
   "metadata": {},
   "outputs": [],
   "source": [
    "df.drop([\"Extra_Notes\"], axis = 1 , inplace = True)"
   ]
  },
  {
   "cell_type": "code",
   "execution_count": 29,
   "id": "cb6a7b19-f784-43f7-8ee6-59805320eb82",
   "metadata": {},
   "outputs": [
    {
     "data": {
      "text/plain": [
       "(246, 10)"
      ]
     },
     "execution_count": 29,
     "metadata": {},
     "output_type": "execute_result"
    }
   ],
   "source": [
    "df.shape"
   ]
  },
  {
   "cell_type": "code",
   "execution_count": 32,
   "id": "637c5a02-36ae-4635-9435-3e4b509f0ac7",
   "metadata": {},
   "outputs": [],
   "source": [
    "df['Age'] = df['Age'].astype(int)"
   ]
  },
  {
   "cell_type": "code",
   "execution_count": 33,
   "id": "f6b6a065-c40c-485e-973e-2dffc8b066cb",
   "metadata": {},
   "outputs": [],
   "source": [
    "df['Cholesterol_Level'] = df['Cholesterol_Level'].astype(int)"
   ]
  },
  {
   "cell_type": "code",
   "execution_count": 34,
   "id": "0a310741-0ad8-4101-bbc5-165f33313a32",
   "metadata": {},
   "outputs": [
    {
     "data": {
      "text/plain": [
       "Index(['Patient_ID', 'Age', 'Gender', 'Blood_Pressure', 'Heart_Rate',\n",
       "       'Cholesterol_Level', 'Diabetes', 'Smoker', 'Disease',\n",
       "       'Hospital_Visit_Date'],\n",
       "      dtype='object')"
      ]
     },
     "execution_count": 34,
     "metadata": {},
     "output_type": "execute_result"
    }
   ],
   "source": [
    "df.columns"
   ]
  },
  {
   "cell_type": "code",
   "execution_count": 35,
   "id": "c5bc1ac1-136e-44e5-a8c1-f71e03ce141a",
   "metadata": {},
   "outputs": [
    {
     "data": {
      "text/html": [
       "<div>\n",
       "<style scoped>\n",
       "    .dataframe tbody tr th:only-of-type {\n",
       "        vertical-align: middle;\n",
       "    }\n",
       "\n",
       "    .dataframe tbody tr th {\n",
       "        vertical-align: top;\n",
       "    }\n",
       "\n",
       "    .dataframe thead th {\n",
       "        text-align: right;\n",
       "    }\n",
       "</style>\n",
       "<table border=\"1\" class=\"dataframe\">\n",
       "  <thead>\n",
       "    <tr style=\"text-align: right;\">\n",
       "      <th></th>\n",
       "      <th>Heart_Rate</th>\n",
       "      <th>Cholesterol_Level</th>\n",
       "    </tr>\n",
       "  </thead>\n",
       "  <tbody>\n",
       "    <tr>\n",
       "      <th>count</th>\n",
       "      <td>246.000000</td>\n",
       "      <td>246.000000</td>\n",
       "    </tr>\n",
       "    <tr>\n",
       "      <th>mean</th>\n",
       "      <td>81.292683</td>\n",
       "      <td>203.024390</td>\n",
       "    </tr>\n",
       "    <tr>\n",
       "      <th>std</th>\n",
       "      <td>20.015395</td>\n",
       "      <td>57.342717</td>\n",
       "    </tr>\n",
       "    <tr>\n",
       "      <th>min</th>\n",
       "      <td>50.000000</td>\n",
       "      <td>101.000000</td>\n",
       "    </tr>\n",
       "    <tr>\n",
       "      <th>25%</th>\n",
       "      <td>64.000000</td>\n",
       "      <td>155.250000</td>\n",
       "    </tr>\n",
       "    <tr>\n",
       "      <th>50%</th>\n",
       "      <td>80.000000</td>\n",
       "      <td>207.000000</td>\n",
       "    </tr>\n",
       "    <tr>\n",
       "      <th>75%</th>\n",
       "      <td>96.750000</td>\n",
       "      <td>250.750000</td>\n",
       "    </tr>\n",
       "    <tr>\n",
       "      <th>max</th>\n",
       "      <td>119.000000</td>\n",
       "      <td>299.000000</td>\n",
       "    </tr>\n",
       "  </tbody>\n",
       "</table>\n",
       "</div>"
      ],
      "text/plain": [
       "       Heart_Rate  Cholesterol_Level\n",
       "count  246.000000         246.000000\n",
       "mean    81.292683         203.024390\n",
       "std     20.015395          57.342717\n",
       "min     50.000000         101.000000\n",
       "25%     64.000000         155.250000\n",
       "50%     80.000000         207.000000\n",
       "75%     96.750000         250.750000\n",
       "max    119.000000         299.000000"
      ]
     },
     "execution_count": 35,
     "metadata": {},
     "output_type": "execute_result"
    }
   ],
   "source": [
    "df[[\"Heart_Rate\", \"Cholesterol_Level\"]].describe()"
   ]
  },
  {
   "cell_type": "code",
   "execution_count": 36,
   "id": "54ce584b-6044-4aee-8bf8-d4f3ad744dbf",
   "metadata": {},
   "outputs": [
    {
     "data": {
      "text/plain": [
       "Index(['Patient_ID', 'Age', 'Gender', 'Blood_Pressure', 'Heart_Rate',\n",
       "       'Cholesterol_Level', 'Diabetes', 'Smoker', 'Disease',\n",
       "       'Hospital_Visit_Date'],\n",
       "      dtype='object')"
      ]
     },
     "execution_count": 36,
     "metadata": {},
     "output_type": "execute_result"
    }
   ],
   "source": [
    "df.columns"
   ]
  },
  {
   "cell_type": "code",
   "execution_count": 58,
   "id": "e838adb7-c12a-4872-9804-e45ce04fc4bd",
   "metadata": {},
   "outputs": [
    {
     "name": "stdout",
     "output_type": "stream",
     "text": [
      "Gender\n",
      "Male      129\n",
      "Female    117\n",
      "Name: count, dtype: int64\n"
     ]
    }
   ],
   "source": [
    "# Count gender occurrences\n",
    "gender_counts = df[\"Gender\"].value_counts()\n",
    "print(gender_counts)"
   ]
  },
  {
   "cell_type": "code",
   "execution_count": 52,
   "id": "0dea0442-f9bb-44e2-ae02-3fd7f82865e8",
   "metadata": {},
   "outputs": [
    {
     "data": {
      "image/png": "[encoded data removed]",
      "text/plain": [
       "<Figure size 500x500 with 1 Axes>"
      ]
     },
     "metadata": {},
     "output_type": "display_data"
    }
   ],
   "source": [
    "# Plot pie chart\n",
    "plt.figure(figsize=(5, 5))\n",
    "plt.pie(gender_counts, labels=gender_counts.index, autopct=\"%1.1f%%\", colors=[\"blue\", \"pink\"])\n",
    "plt.title(\"Gender Distribution\")\n",
    "plt.show()"
   ]
  },
  {
   "cell_type": "markdown",
   "id": "60d17477-66c1-4130-bada-bab5a24be6f3",
   "metadata": {},
   "source": [
    "**Male patients are more than female**"
   ]
  },
  {
   "cell_type": "code",
   "execution_count": 57,
   "id": "3eb4e765-f0da-4142-a3ab-79a667f3e107",
   "metadata": {},
   "outputs": [
    {
     "name": "stdout",
     "output_type": "stream",
     "text": [
      "Smoker\n",
      "No     182\n",
      "Yes     64\n",
      "Name: count, dtype: int64\n",
      "Diabetes\n",
      "No     195\n",
      "Yes     51\n",
      "Name: count, dtype: int64\n"
     ]
    }
   ],
   "source": [
    "# Count Smoking & Diabetes cases\n",
    "smoking_counts = df[\"Smoker\"].value_counts()\n",
    "print(smoking_counts)\n",
    "diabetes_counts = df[\"Diabetes\"].value_counts()\n",
    "print(diabetes_counts)"
   ]
  },
  {
   "cell_type": "code",
   "execution_count": 56,
   "id": "dbd3855c-6795-4b20-9f48-dd501814db57",
   "metadata": {},
   "outputs": [
    {
     "data": {
      "image/png": "[encoded data removed]",
      "text/plain": [
       "<Figure size 800x400 with 2 Axes>"
      ]
     },
     "metadata": {},
     "output_type": "display_data"
    }
   ],
   "source": [
    "# Plot bar chart\n",
    "plt.figure(figsize=(8, 4))\n",
    "\n",
    "plt.subplot(1, 2, 1)\n",
    "plt.bar(smoking_counts.index, smoking_counts.values, color=[\"green\", \"red\"])\n",
    "plt.xlabel(\"Smoking Status\")\n",
    "plt.ylabel(\"Number of Patients\")\n",
    "plt.title(\"Smoking Prevalence\")\n",
    "\n",
    "plt.subplot(1, 2, 2)\n",
    "plt.bar(diabetes_counts.index, diabetes_counts.values, color=[\"blue\", \"orange\"])\n",
    "plt.xlabel(\"Diabetes Status\")\n",
    "plt.ylabel(\"Number of Patients\")\n",
    "plt.title(\"Diabetes Prevalence\")\n",
    "\n",
    "plt.tight_layout()\n",
    "plt.show()"
   ]
  },
  {
   "cell_type": "markdown",
   "id": "e69d66a1-4ba4-4923-9aac-d7a58815d23e",
   "metadata": {},
   "source": [
    "**From the above two graphs it is clear that number of smokers are more as compared to diabetic people**"
   ]
  },
  {
   "cell_type": "code",
   "execution_count": 39,
   "id": "b0f1ff72-ac5f-475a-82b3-e2c8559ced85",
   "metadata": {},
   "outputs": [
    {
     "data": {
      "image/png": "[encoded data removed]",
      "text/plain": [
       "<Figure size 640x480 with 1 Axes>"
      ]
     },
     "metadata": {},
     "output_type": "display_data"
    }
   ],
   "source": [
    "ax = sns.countplot(data = df, x = \"Diabetes\", hue = \"Gender\")\n",
    "\n",
    "for bars in ax.containers:\n",
    "    ax.bar_label(bars)"
   ]
  },
  {
   "cell_type": "markdown",
   "id": "75724cf0-5d62-4bb8-92fe-e7e72c18522e",
   "metadata": {},
   "source": [
    "**From the above graph we can say that men are more diabetic as compared to women**"
   ]
  },
  {
   "cell_type": "code",
   "execution_count": 59,
   "id": "01b4bac3-3e29-49a2-8faf-62cf5a11074e",
   "metadata": {},
   "outputs": [
    {
     "data": {
      "image/png": "[encoded data removed]",
      "text/plain": [
       "<Figure size 640x480 with 1 Axes>"
      ]
     },
     "metadata": {},
     "output_type": "display_data"
    }
   ],
   "source": [
    "ax = sns.countplot(data = df, x = \"Smoker\", hue = \"Gender\")\n",
    "\n",
    "for bars in ax.containers:\n",
    "    ax.bar_label(bars)"
   ]
  },
  {
   "cell_type": "markdown",
   "id": "e2be2ce5-5cd6-4e32-b558-23266a119a5f",
   "metadata": {},
   "source": [
    "**From the above graph we can say that men smoke more than women**"
   ]
  },
  {
   "cell_type": "code",
   "execution_count": 60,
   "id": "dedcb8ac-cfb1-4781-85d4-6d554c2d312a",
   "metadata": {},
   "outputs": [
    {
     "name": "stdout",
     "output_type": "stream",
     "text": [
      "Disease  Diabetes  Heart Disease  Hypertension\n",
      "Gender                                        \n",
      "Female         39             35            43\n",
      "Male           39             46            44\n"
     ]
    }
   ],
   "source": [
    "# Count disease cases by gender\n",
    "disease_by_gender = df.groupby(\"Gender\")[\"Disease\"].value_counts().unstack().fillna(0)\n",
    "print(disease_by_gender)"
   ]
  },
  {
   "cell_type": "code",
   "execution_count": 63,
   "id": "d8886751-6152-4218-ab30-aea92f3bb944",
   "metadata": {},
   "outputs": [
    {
     "name": "stdout",
     "output_type": "stream",
     "text": [
      "Disease\n",
      "Hypertension     87\n",
      "Heart Disease    81\n",
      "Diabetes         78\n",
      "Name: count, dtype: int64\n"
     ]
    }
   ],
   "source": [
    "# Count disease occurrences\n",
    "disease_counts = df[\"Disease\"].value_counts().head(10)\n",
    "print(disease_counts)"
   ]
  },
  {
   "cell_type": "code",
   "execution_count": 62,
   "id": "1c3871fb-ca7d-4d89-bb63-f1a17668db6a",
   "metadata": {},
   "outputs": [
    {
     "data": {
      "image/png": "[encoded data removed]",
      "text/plain": [
       "<Figure size 1000x500 with 1 Axes>"
      ]
     },
     "metadata": {},
     "output_type": "display_data"
    }
   ],
   "source": [
    "# Plot bar chart\n",
    "plt.figure(figsize=(10, 5))\n",
    "plt.bar(disease_counts.index, disease_counts.values, color=\"purple\")\n",
    "plt.xlabel(\"Disease\")\n",
    "plt.ylabel(\"Number of Patients\")\n",
    "plt.xticks(rotation=45)\n",
    "plt.title(\"Top 10 Most Common Diseases\")\n",
    "plt.show()"
   ]
  },
  {
   "cell_type": "markdown",
   "id": "f5f52188-0216-4588-a0c1-581774fd5e72",
   "metadata": {},
   "source": [
    "**From the above graph we can conclude that people are suffering from hypertention more as compared to heart diseases and diabetes**"
   ]
  },
  {
   "cell_type": "markdown",
   "id": "db6cb460-7e5d-4391-b2a8-696e7d209f12",
   "metadata": {},
   "source": [
    "<font size = 7>**Overall Final Insights from All Graph :**</font>"
   ]
  },
  {
   "cell_type": "markdown",
   "id": "21dee064-c46a-4cd7-bca0-c148ea50bc29",
   "metadata": {},
   "source": [
    "**1. Smoking is more prevalent than diabetes among the patients in the dataset.**"
   ]
  },
  {
   "cell_type": "markdown",
   "id": "bcca21bd-0b86-4f0b-a67f-155e1c167e7b",
   "metadata": {},
   "source": [
    "**2. Hypertension is the most common disease, affecting more people than heart disease and diabetes.**"
   ]
  },
  {
   "cell_type": "markdown",
   "id": "f0b38585-57ae-4ae6-9d2b-9fde217300f2",
   "metadata": {},
   "source": [
    "**3. The dataset suggests that chronic illnesses like hypertension and heart disease are more common than diabetes.**"
   ]
  },
  {
   "cell_type": "markdown",
   "id": "fdb92019-669f-4fb6-87bc-aad277f9e530",
   "metadata": {},
   "source": [
    "**4. Since smoking is a known risk factor for various diseases (including hypertension, heart disease, and diabetes), further analysis could explore correlations between smoking and disease prevalence.**"
   ]
  },
  {
   "cell_type": "code",
   "execution_count": null,
   "id": "725c10c8-af37-4bdf-889a-f1299255e595",
   "metadata": {},
   "outputs": [],
   "source": []
  }
 ],
 "metadata": {
  "kernelspec": {
   "display_name": "Python 3 (ipykernel)",
   "language": "python",
   "name": "python3"
  },
  "language_info": {
   "codemirror_mode": {
    "name": "ipython",
    "version": 3
   },
   "file_extension": ".py",
   "mimetype": "text/x-python",
   "name": "python",
   "nbconvert_exporter": "python",
   "pygments_lexer": "ipython3",
   "version": "3.12.4"
  }
 },
 "nbformat": 4,
 "nbformat_minor": 5
}
